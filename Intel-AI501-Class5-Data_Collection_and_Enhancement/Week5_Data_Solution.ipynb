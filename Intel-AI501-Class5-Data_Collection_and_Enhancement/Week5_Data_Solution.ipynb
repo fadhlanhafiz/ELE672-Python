{
 "cells": [
  {
   "cell_type": "markdown",
   "metadata": {},
   "source": [
    "# Assignment 5: Data Preprocessing"
   ]
  },
  {
   "cell_type": "markdown",
   "metadata": {},
   "source": [
    "# Setup"
   ]
  },
  {
   "cell_type": "markdown",
   "metadata": {},
   "source": [
    "Import python libraries"
   ]
  },
  {
   "cell_type": "code",
   "execution_count": 1,
   "metadata": {
    "ExecuteTime": {
     "end_time": "2018-02-15T18:35:45.509237Z",
     "start_time": "2018-02-15T18:35:45.324233Z"
    }
   },
   "outputs": [
    {
     "name": "stdout",
     "output_type": "stream",
     "text": [
      "Populating the interactive namespace from numpy and matplotlib\n"
     ]
    }
   ],
   "source": [
    "% pylab inline\n",
    "\n",
    "import pandas as pd\n",
    "import seaborn\n",
    "\n",
    "\n",
    "from sklearn import model_selection\n",
    "from sklearn import pipeline, feature_selection, linear_model, preprocessing, metrics\n",
    "\n",
    "\n",
    "seaborn.set_style(\"whitegrid\")"
   ]
  },
  {
   "cell_type": "markdown",
   "metadata": {},
   "source": [
    "We'll be using the Ames Housing dataset during this exercise. Below we'll read the data in and display the first five rows."
   ]
  },
  {
   "cell_type": "code",
   "execution_count": 2,
   "metadata": {},
   "outputs": [
    {
     "data": {
      "text/html": [
       "<div>\n",
       "<style>\n",
       "    .dataframe thead tr:only-child th {\n",
       "        text-align: right;\n",
       "    }\n",
       "\n",
       "    .dataframe thead th {\n",
       "        text-align: left;\n",
       "    }\n",
       "\n",
       "    .dataframe tbody tr th {\n",
       "        vertical-align: top;\n",
       "    }\n",
       "</style>\n",
       "<table border=\"1\" class=\"dataframe\">\n",
       "  <thead>\n",
       "    <tr style=\"text-align: right;\">\n",
       "      <th></th>\n",
       "      <th>Order</th>\n",
       "      <th>PID</th>\n",
       "      <th>MS SubClass</th>\n",
       "      <th>MS Zoning</th>\n",
       "      <th>Lot Frontage</th>\n",
       "      <th>Lot Area</th>\n",
       "      <th>Street</th>\n",
       "      <th>Alley</th>\n",
       "      <th>Lot Shape</th>\n",
       "      <th>Land Contour</th>\n",
       "      <th>...</th>\n",
       "      <th>Pool Area</th>\n",
       "      <th>Pool QC</th>\n",
       "      <th>Fence</th>\n",
       "      <th>Misc Feature</th>\n",
       "      <th>Misc Val</th>\n",
       "      <th>Mo Sold</th>\n",
       "      <th>Yr Sold</th>\n",
       "      <th>Sale Type</th>\n",
       "      <th>Sale Condition</th>\n",
       "      <th>SalePrice</th>\n",
       "    </tr>\n",
       "  </thead>\n",
       "  <tbody>\n",
       "    <tr>\n",
       "      <th>0</th>\n",
       "      <td>1</td>\n",
       "      <td>526301100</td>\n",
       "      <td>20</td>\n",
       "      <td>RL</td>\n",
       "      <td>141.0</td>\n",
       "      <td>31770</td>\n",
       "      <td>Pave</td>\n",
       "      <td>NaN</td>\n",
       "      <td>IR1</td>\n",
       "      <td>Lvl</td>\n",
       "      <td>...</td>\n",
       "      <td>0</td>\n",
       "      <td>NaN</td>\n",
       "      <td>NaN</td>\n",
       "      <td>NaN</td>\n",
       "      <td>0</td>\n",
       "      <td>5</td>\n",
       "      <td>2010</td>\n",
       "      <td>WD</td>\n",
       "      <td>Normal</td>\n",
       "      <td>215000</td>\n",
       "    </tr>\n",
       "    <tr>\n",
       "      <th>1</th>\n",
       "      <td>2</td>\n",
       "      <td>526350040</td>\n",
       "      <td>20</td>\n",
       "      <td>RH</td>\n",
       "      <td>80.0</td>\n",
       "      <td>11622</td>\n",
       "      <td>Pave</td>\n",
       "      <td>NaN</td>\n",
       "      <td>Reg</td>\n",
       "      <td>Lvl</td>\n",
       "      <td>...</td>\n",
       "      <td>0</td>\n",
       "      <td>NaN</td>\n",
       "      <td>MnPrv</td>\n",
       "      <td>NaN</td>\n",
       "      <td>0</td>\n",
       "      <td>6</td>\n",
       "      <td>2010</td>\n",
       "      <td>WD</td>\n",
       "      <td>Normal</td>\n",
       "      <td>105000</td>\n",
       "    </tr>\n",
       "    <tr>\n",
       "      <th>2</th>\n",
       "      <td>3</td>\n",
       "      <td>526351010</td>\n",
       "      <td>20</td>\n",
       "      <td>RL</td>\n",
       "      <td>81.0</td>\n",
       "      <td>14267</td>\n",
       "      <td>Pave</td>\n",
       "      <td>NaN</td>\n",
       "      <td>IR1</td>\n",
       "      <td>Lvl</td>\n",
       "      <td>...</td>\n",
       "      <td>0</td>\n",
       "      <td>NaN</td>\n",
       "      <td>NaN</td>\n",
       "      <td>Gar2</td>\n",
       "      <td>12500</td>\n",
       "      <td>6</td>\n",
       "      <td>2010</td>\n",
       "      <td>WD</td>\n",
       "      <td>Normal</td>\n",
       "      <td>172000</td>\n",
       "    </tr>\n",
       "    <tr>\n",
       "      <th>3</th>\n",
       "      <td>4</td>\n",
       "      <td>526353030</td>\n",
       "      <td>20</td>\n",
       "      <td>RL</td>\n",
       "      <td>93.0</td>\n",
       "      <td>11160</td>\n",
       "      <td>Pave</td>\n",
       "      <td>NaN</td>\n",
       "      <td>Reg</td>\n",
       "      <td>Lvl</td>\n",
       "      <td>...</td>\n",
       "      <td>0</td>\n",
       "      <td>NaN</td>\n",
       "      <td>NaN</td>\n",
       "      <td>NaN</td>\n",
       "      <td>0</td>\n",
       "      <td>4</td>\n",
       "      <td>2010</td>\n",
       "      <td>WD</td>\n",
       "      <td>Normal</td>\n",
       "      <td>244000</td>\n",
       "    </tr>\n",
       "    <tr>\n",
       "      <th>4</th>\n",
       "      <td>5</td>\n",
       "      <td>527105010</td>\n",
       "      <td>60</td>\n",
       "      <td>RL</td>\n",
       "      <td>74.0</td>\n",
       "      <td>13830</td>\n",
       "      <td>Pave</td>\n",
       "      <td>NaN</td>\n",
       "      <td>IR1</td>\n",
       "      <td>Lvl</td>\n",
       "      <td>...</td>\n",
       "      <td>0</td>\n",
       "      <td>NaN</td>\n",
       "      <td>MnPrv</td>\n",
       "      <td>NaN</td>\n",
       "      <td>0</td>\n",
       "      <td>3</td>\n",
       "      <td>2010</td>\n",
       "      <td>WD</td>\n",
       "      <td>Normal</td>\n",
       "      <td>189900</td>\n",
       "    </tr>\n",
       "  </tbody>\n",
       "</table>\n",
       "<p>5 rows × 82 columns</p>\n",
       "</div>"
      ],
      "text/plain": [
       "   Order        PID  MS SubClass MS Zoning  Lot Frontage  Lot Area Street  \\\n",
       "0      1  526301100           20        RL         141.0     31770   Pave   \n",
       "1      2  526350040           20        RH          80.0     11622   Pave   \n",
       "2      3  526351010           20        RL          81.0     14267   Pave   \n",
       "3      4  526353030           20        RL          93.0     11160   Pave   \n",
       "4      5  527105010           60        RL          74.0     13830   Pave   \n",
       "\n",
       "  Alley Lot Shape Land Contour    ...     Pool Area Pool QC  Fence  \\\n",
       "0   NaN       IR1          Lvl    ...             0     NaN    NaN   \n",
       "1   NaN       Reg          Lvl    ...             0     NaN  MnPrv   \n",
       "2   NaN       IR1          Lvl    ...             0     NaN    NaN   \n",
       "3   NaN       Reg          Lvl    ...             0     NaN    NaN   \n",
       "4   NaN       IR1          Lvl    ...             0     NaN  MnPrv   \n",
       "\n",
       "  Misc Feature Misc Val Mo Sold Yr Sold Sale Type  Sale Condition  SalePrice  \n",
       "0          NaN        0       5    2010       WD           Normal     215000  \n",
       "1          NaN        0       6    2010       WD           Normal     105000  \n",
       "2         Gar2    12500       6    2010       WD           Normal     172000  \n",
       "3          NaN        0       4    2010       WD           Normal     244000  \n",
       "4          NaN        0       3    2010       WD           Normal     189900  \n",
       "\n",
       "[5 rows x 82 columns]"
      ]
     },
     "execution_count": 2,
     "metadata": {},
     "output_type": "execute_result"
    }
   ],
   "source": [
    "ames_df = pd.read_csv(\"http://www.amstat.org/publications/jse/v19n3/Decock/AmesHousing.txt\", delimiter=\"\\t\")\n",
    "ames_df.head()"
   ]
  },
  {
   "cell_type": "markdown",
   "metadata": {},
   "source": [
    "We see that there are a mixture of numerical, categorical, and NaN values in the dataset. Below we will select only numerical features and drap any NaN values"
   ]
  },
  {
   "cell_type": "code",
   "execution_count": 3,
   "metadata": {
    "collapsed": true
   },
   "outputs": [],
   "source": [
    "num_cols = [c for c in ames_df.columns if ames_df[c].dtype in ['int64', 'float64']]\n",
    "ames_df = ames_df[num_cols].copy()\n",
    "\n",
    "ames_df.dropna(inplace=True)"
   ]
  },
  {
   "cell_type": "code",
   "execution_count": 4,
   "metadata": {
    "ExecuteTime": {
     "end_time": "2018-02-16T14:13:50.283346Z",
     "start_time": "2018-02-16T14:13:49.333716Z"
    }
   },
   "outputs": [
    {
     "data": {
      "text/html": [
       "<div>\n",
       "<style>\n",
       "    .dataframe thead tr:only-child th {\n",
       "        text-align: right;\n",
       "    }\n",
       "\n",
       "    .dataframe thead th {\n",
       "        text-align: left;\n",
       "    }\n",
       "\n",
       "    .dataframe tbody tr th {\n",
       "        vertical-align: top;\n",
       "    }\n",
       "</style>\n",
       "<table border=\"1\" class=\"dataframe\">\n",
       "  <thead>\n",
       "    <tr style=\"text-align: right;\">\n",
       "      <th></th>\n",
       "      <th>Order</th>\n",
       "      <th>PID</th>\n",
       "      <th>MS SubClass</th>\n",
       "      <th>Lot Frontage</th>\n",
       "      <th>Lot Area</th>\n",
       "      <th>Overall Qual</th>\n",
       "      <th>Overall Cond</th>\n",
       "      <th>Year Built</th>\n",
       "      <th>Year Remod/Add</th>\n",
       "      <th>Mas Vnr Area</th>\n",
       "      <th>...</th>\n",
       "      <th>Wood Deck SF</th>\n",
       "      <th>Open Porch SF</th>\n",
       "      <th>Enclosed Porch</th>\n",
       "      <th>3Ssn Porch</th>\n",
       "      <th>Screen Porch</th>\n",
       "      <th>Pool Area</th>\n",
       "      <th>Misc Val</th>\n",
       "      <th>Mo Sold</th>\n",
       "      <th>Yr Sold</th>\n",
       "      <th>SalePrice</th>\n",
       "    </tr>\n",
       "  </thead>\n",
       "  <tbody>\n",
       "    <tr>\n",
       "      <th>0</th>\n",
       "      <td>1</td>\n",
       "      <td>526301100</td>\n",
       "      <td>20</td>\n",
       "      <td>141.0</td>\n",
       "      <td>31770</td>\n",
       "      <td>6</td>\n",
       "      <td>5</td>\n",
       "      <td>1960</td>\n",
       "      <td>1960</td>\n",
       "      <td>112.0</td>\n",
       "      <td>...</td>\n",
       "      <td>210</td>\n",
       "      <td>62</td>\n",
       "      <td>0</td>\n",
       "      <td>0</td>\n",
       "      <td>0</td>\n",
       "      <td>0</td>\n",
       "      <td>0</td>\n",
       "      <td>5</td>\n",
       "      <td>2010</td>\n",
       "      <td>215000</td>\n",
       "    </tr>\n",
       "    <tr>\n",
       "      <th>1</th>\n",
       "      <td>2</td>\n",
       "      <td>526350040</td>\n",
       "      <td>20</td>\n",
       "      <td>80.0</td>\n",
       "      <td>11622</td>\n",
       "      <td>5</td>\n",
       "      <td>6</td>\n",
       "      <td>1961</td>\n",
       "      <td>1961</td>\n",
       "      <td>0.0</td>\n",
       "      <td>...</td>\n",
       "      <td>140</td>\n",
       "      <td>0</td>\n",
       "      <td>0</td>\n",
       "      <td>0</td>\n",
       "      <td>120</td>\n",
       "      <td>0</td>\n",
       "      <td>0</td>\n",
       "      <td>6</td>\n",
       "      <td>2010</td>\n",
       "      <td>105000</td>\n",
       "    </tr>\n",
       "    <tr>\n",
       "      <th>2</th>\n",
       "      <td>3</td>\n",
       "      <td>526351010</td>\n",
       "      <td>20</td>\n",
       "      <td>81.0</td>\n",
       "      <td>14267</td>\n",
       "      <td>6</td>\n",
       "      <td>6</td>\n",
       "      <td>1958</td>\n",
       "      <td>1958</td>\n",
       "      <td>108.0</td>\n",
       "      <td>...</td>\n",
       "      <td>393</td>\n",
       "      <td>36</td>\n",
       "      <td>0</td>\n",
       "      <td>0</td>\n",
       "      <td>0</td>\n",
       "      <td>0</td>\n",
       "      <td>12500</td>\n",
       "      <td>6</td>\n",
       "      <td>2010</td>\n",
       "      <td>172000</td>\n",
       "    </tr>\n",
       "    <tr>\n",
       "      <th>3</th>\n",
       "      <td>4</td>\n",
       "      <td>526353030</td>\n",
       "      <td>20</td>\n",
       "      <td>93.0</td>\n",
       "      <td>11160</td>\n",
       "      <td>7</td>\n",
       "      <td>5</td>\n",
       "      <td>1968</td>\n",
       "      <td>1968</td>\n",
       "      <td>0.0</td>\n",
       "      <td>...</td>\n",
       "      <td>0</td>\n",
       "      <td>0</td>\n",
       "      <td>0</td>\n",
       "      <td>0</td>\n",
       "      <td>0</td>\n",
       "      <td>0</td>\n",
       "      <td>0</td>\n",
       "      <td>4</td>\n",
       "      <td>2010</td>\n",
       "      <td>244000</td>\n",
       "    </tr>\n",
       "    <tr>\n",
       "      <th>4</th>\n",
       "      <td>5</td>\n",
       "      <td>527105010</td>\n",
       "      <td>60</td>\n",
       "      <td>74.0</td>\n",
       "      <td>13830</td>\n",
       "      <td>5</td>\n",
       "      <td>5</td>\n",
       "      <td>1997</td>\n",
       "      <td>1998</td>\n",
       "      <td>0.0</td>\n",
       "      <td>...</td>\n",
       "      <td>212</td>\n",
       "      <td>34</td>\n",
       "      <td>0</td>\n",
       "      <td>0</td>\n",
       "      <td>0</td>\n",
       "      <td>0</td>\n",
       "      <td>0</td>\n",
       "      <td>3</td>\n",
       "      <td>2010</td>\n",
       "      <td>189900</td>\n",
       "    </tr>\n",
       "  </tbody>\n",
       "</table>\n",
       "<p>5 rows × 39 columns</p>\n",
       "</div>"
      ],
      "text/plain": [
       "   Order        PID  MS SubClass  Lot Frontage  Lot Area  Overall Qual  \\\n",
       "0      1  526301100           20         141.0     31770             6   \n",
       "1      2  526350040           20          80.0     11622             5   \n",
       "2      3  526351010           20          81.0     14267             6   \n",
       "3      4  526353030           20          93.0     11160             7   \n",
       "4      5  527105010           60          74.0     13830             5   \n",
       "\n",
       "   Overall Cond  Year Built  Year Remod/Add  Mas Vnr Area    ...      \\\n",
       "0             5        1960            1960         112.0    ...       \n",
       "1             6        1961            1961           0.0    ...       \n",
       "2             6        1958            1958         108.0    ...       \n",
       "3             5        1968            1968           0.0    ...       \n",
       "4             5        1997            1998           0.0    ...       \n",
       "\n",
       "   Wood Deck SF  Open Porch SF  Enclosed Porch  3Ssn Porch  Screen Porch  \\\n",
       "0           210             62               0           0             0   \n",
       "1           140              0               0           0           120   \n",
       "2           393             36               0           0             0   \n",
       "3             0              0               0           0             0   \n",
       "4           212             34               0           0             0   \n",
       "\n",
       "   Pool Area  Misc Val  Mo Sold  Yr Sold  SalePrice  \n",
       "0          0         0        5     2010     215000  \n",
       "1          0         0        6     2010     105000  \n",
       "2          0     12500        6     2010     172000  \n",
       "3          0         0        4     2010     244000  \n",
       "4          0         0        3     2010     189900  \n",
       "\n",
       "[5 rows x 39 columns]"
      ]
     },
     "execution_count": 4,
     "metadata": {},
     "output_type": "execute_result"
    }
   ],
   "source": [
    "ames_df.head()"
   ]
  },
  {
   "cell_type": "markdown",
   "metadata": {},
   "source": [
    "We'll be working to predict the sales price of the house. Below we store the target sales price in a variable named y. We remove the SalesPrice, Order, and PID as features and store the remaining columns in a variable named x. We then split the dataset into a training and testing set."
   ]
  },
  {
   "cell_type": "code",
   "execution_count": 6,
   "metadata": {
    "ExecuteTime": {
     "end_time": "2018-02-16T14:13:50.863892Z",
     "start_time": "2018-02-16T14:13:50.849734Z"
    },
    "collapsed": true
   },
   "outputs": [],
   "source": [
    "y = ames_df['SalePrice']\n",
    "x = ames_df.drop(['Order', 'PID', 'SalePrice'], axis = 1)\n",
    "\n",
    "x_train, x_test, y_train, y_test = model_selection.train_test_split(x,y)"
   ]
  },
  {
   "cell_type": "markdown",
   "metadata": {},
   "source": [
    "## Demo\n",
    "\n",
    "We're going to use sklearn's pipelines to organize our workflow as well as the following for preprocessing and modeling. \n",
    "* StandardScaler: scales all input features to have a mean of zero and std of one\n",
    "* SelectPercentile: selects the 20 best features\n",
    "* LinearRegression: the model we'll use today\n",
    "\n",
    "Below is a demo of how to fit and evaluate a pipeline. "
   ]
  },
  {
   "cell_type": "code",
   "execution_count": 9,
   "metadata": {
    "ExecuteTime": {
     "end_time": "2018-02-16T14:14:11.215003Z",
     "start_time": "2018-02-16T14:14:11.201442Z"
    },
    "collapsed": true
   },
   "outputs": [],
   "source": [
    "first_pipe = pipeline.Pipeline([\n",
    "    (\"scale\", preprocessing.StandardScaler()),\n",
    "    (\"selection\", feature_selection.SelectPercentile(feature_selection.f_regression, percentile=50)),\n",
    "    (\"regression\", linear_model.LinearRegression()),\n",
    "])"
   ]
  },
  {
   "cell_type": "code",
   "execution_count": 17,
   "metadata": {
    "ExecuteTime": {
     "end_time": "2018-02-16T14:14:12.210302Z",
     "start_time": "2018-02-16T14:14:12.067721Z"
    }
   },
   "outputs": [
    {
     "name": "stdout",
     "output_type": "stream",
     "text": [
      "train score: 0.9554798493592374\n",
      "test score: -1.0835686906921533\n"
     ]
    }
   ],
   "source": [
    "score = model_selection.cross_validate(first_pipe, x_train,y_train, scoring=\"r2\", cv=5, return_train_score=True)\n",
    "train_score = score['train_score'].mean()\n",
    "test_score = score['test_score'].mean()\n",
    "\n",
    "print(f\"train score: {train_score}\")\n",
    "print(f\"test score: {test_score}\")"
   ]
  },
  {
   "cell_type": "markdown",
   "metadata": {
    "ExecuteTime": {
     "end_time": "2018-02-15T15:05:03.721950Z",
     "start_time": "2018-02-15T15:05:03.712948Z"
    }
   },
   "source": [
    "#  **Exercise 1: Learning Curve**\n",
    "\n",
    "Today's lesson discussed data: How does one get it, what should it look like, and what to look out for. One important part of this topic is knowing if our model is underfit or overfit. \n",
    "\n",
    "To know if we are overfit or underfit, we need to plot a learning curve. A learning curve plots performance (either error or score) against some measure of complexity. We'll make our first learning curve using the number of features as the measure of complexity. \n",
    "\n",
    "Take the training procedure in the cell above an run it for different values of `percentile` in `SelectPercentile()`. Plot the train score vs the test score. For which values of `percentile` is the model underfit and for which is it overfit?\n",
    "\n",
    "\n",
    "Hint: `first_pipe.get_params()` shows you which parameters the pipeline uses. `first_pipe.set_params()` allows you to set the parameters. How can we use this to set a different `percentile` instead of building a new model each time?"
   ]
  },
  {
   "cell_type": "markdown",
   "metadata": {},
   "source": [
    "# Solution 1:"
   ]
  },
  {
   "cell_type": "code",
   "execution_count": 11,
   "metadata": {
    "ExecuteTime": {
     "end_time": "2018-02-16T14:14:16.680048Z",
     "start_time": "2018-02-16T14:14:16.669006Z"
    }
   },
   "outputs": [
    {
     "data": {
      "text/plain": [
       "{'memory': None,\n",
       " 'regression': LinearRegression(copy_X=True, fit_intercept=True, n_jobs=1, normalize=False),\n",
       " 'regression__copy_X': True,\n",
       " 'regression__fit_intercept': True,\n",
       " 'regression__n_jobs': 1,\n",
       " 'regression__normalize': False,\n",
       " 'scale': StandardScaler(copy=True, with_mean=True, with_std=True),\n",
       " 'scale__copy': True,\n",
       " 'scale__with_mean': True,\n",
       " 'scale__with_std': True,\n",
       " 'selection': SelectPercentile(percentile=50,\n",
       "          score_func=<function f_regression at 0x11753c840>),\n",
       " 'selection__percentile': 50,\n",
       " 'selection__score_func': <function sklearn.feature_selection.univariate_selection.f_regression>,\n",
       " 'steps': [('scale', StandardScaler(copy=True, with_mean=True, with_std=True)),\n",
       "  ('selection', SelectPercentile(percentile=50,\n",
       "            score_func=<function f_regression at 0x11753c840>)),\n",
       "  ('regression',\n",
       "   LinearRegression(copy_X=True, fit_intercept=True, n_jobs=1, normalize=False))]}"
      ]
     },
     "execution_count": 11,
     "metadata": {},
     "output_type": "execute_result"
    }
   ],
   "source": [
    "first_pipe.get_params()"
   ]
  },
  {
   "cell_type": "code",
   "execution_count": 12,
   "metadata": {
    "ExecuteTime": {
     "end_time": "2018-02-16T14:14:34.178552Z",
     "start_time": "2018-02-16T14:14:32.911200Z"
    }
   },
   "outputs": [
    {
     "name": "stdout",
     "output_type": "stream",
     "text": [
      "0.85306229167\n"
     ]
    }
   ],
   "source": [
    "p_list = np.linspace(1, 100, 25, dtype='int')\n",
    "train_score = []\n",
    "test_score = []\n",
    "\n",
    "for i, p in enumerate(p_list):\n",
    "\n",
    "    first_pipe.set_params(selection__percentile=p)\n",
    "\n",
    "    score = model_selection.cross_validate(\n",
    "        first_pipe,\n",
    "        x_train,\n",
    "        y_train,\n",
    "        scoring=\"r2\",\n",
    "        cv=5,\n",
    "        return_train_score=True)\n",
    "\n",
    "    train_score.append(score['train_score'].mean())\n",
    "    test_score.append(score['test_score'].mean())\n",
    "print(max(test_score))"
   ]
  },
  {
   "cell_type": "code",
   "execution_count": 13,
   "metadata": {
    "ExecuteTime": {
     "end_time": "2018-02-16T14:14:35.676948Z",
     "start_time": "2018-02-16T14:14:35.333122Z"
    }
   },
   "outputs": [
    {
     "data": {
      "image/png": "[encoded data removed]",
      "text/plain": [
       "<matplotlib.figure.Figure at 0x109e68080>"
      ]
     },
     "metadata": {},
     "output_type": "display_data"
    }
   ],
   "source": [
    "plt.plot(p_list, train_score, label='train')\n",
    "plt.plot(p_list, test_score, label='test')\n",
    "plt.ylabel(\"$r^2$\")\n",
    "plt.xlabel(\"percent of features\")\n",
    "plt.legend();"
   ]
  },
  {
   "cell_type": "markdown",
   "metadata": {
    "ExecuteTime": {
     "end_time": "2018-02-15T20:35:42.547151Z",
     "start_time": "2018-02-15T20:35:42.540389Z"
    }
   },
   "source": [
    "# **Exercise 2: Features Engineering**\n",
    "\n",
    "One way to add features is through feature engineering—making new features. Revisit your pipeline and add a new step before `\"scale\"`. Use `preprocessing.PolynomialFeatures(degree=2, include_bias=False)` for this. You may vary the degree but you will want to be sure to keep `include_bias=False`. If you get many errors, you may need to add a new step to your python to reduce features with zero variance. Try `(\"var\", feature_selection.VarianceThreshold())`.\n",
    "\n",
    "When building models, you may either engineer new features by hand, by picking out interactions that are likely to be helpful or by selecting transformations. It is also valid to incorporate this as part of your pipeline so that you as the modeler cannot hand select the features—that way, you're letting the model select what's useful so that you don't miss anything.\n",
    "\n",
    "How does this step affect when and whether the model is overfit? If this were a production model, which solution would you recommend?\n"
   ]
  },
  {
   "cell_type": "markdown",
   "metadata": {},
   "source": [
    "# Solution 2:"
   ]
  },
  {
   "cell_type": "code",
   "execution_count": 14,
   "metadata": {
    "ExecuteTime": {
     "end_time": "2018-02-16T14:18:43.378567Z",
     "start_time": "2018-02-16T14:18:42.857319Z"
    }
   },
   "outputs": [
    {
     "name": "stdout",
     "output_type": "stream",
     "text": [
      "train score: 0.901929106522023\n",
      "test score: 0.8162175600063769\n"
     ]
    }
   ],
   "source": [
    "first_pipe = pipeline.Pipeline([\n",
    "    \n",
    "    (\"engineering\", preprocessing.PolynomialFeatures(degree=2, include_bias=False)),\n",
    "    (\"var\", feature_selection.VarianceThreshold()),\n",
    "    (\"scale\", preprocessing.StandardScaler()),\n",
    "    (\"selection\", feature_selection.SelectPercentile(feature_selection.f_regression, percentile=10)),\n",
    "    (\"regression\", linear_model.LinearRegression()),\n",
    "])\n",
    "\n",
    "score = model_selection.cross_validate(first_pipe, x_train,y_train, scoring=\"r2\", cv=5, return_train_score=True)\n",
    "train_score = score['train_score'].mean()\n",
    "test_score = score['test_score'].mean()\n",
    "\n",
    "print(f\"train score: {train_score}\")\n",
    "print(f\"test score: {test_score}\")"
   ]
  },
  {
   "cell_type": "code",
   "execution_count": 15,
   "metadata": {
    "ExecuteTime": {
     "end_time": "2018-02-16T14:18:57.034334Z",
     "start_time": "2018-02-16T14:18:44.255400Z"
    }
   },
   "outputs": [
    {
     "name": "stdout",
     "output_type": "stream",
     "text": [
      "0.843288747652\n"
     ]
    }
   ],
   "source": [
    "p_list = np.linspace(1, 40, 20, dtype='int')\n",
    "train_score = []\n",
    "test_score = []\n",
    "\n",
    "for i, p in enumerate(p_list):\n",
    "\n",
    "    first_pipe.set_params(selection__percentile=p)\n",
    "\n",
    "    score = model_selection.cross_validate(\n",
    "        first_pipe,\n",
    "        x_train,\n",
    "        y_train,\n",
    "        scoring=\"r2\",\n",
    "        cv=5,\n",
    "        return_train_score=True)\n",
    "\n",
    "    train_score.append(score['train_score'].mean())\n",
    "    test_score.append(score['test_score'].mean())\n",
    "print(max(test_score))"
   ]
  },
  {
   "cell_type": "code",
   "execution_count": 16,
   "metadata": {
    "ExecuteTime": {
     "end_time": "2018-02-16T14:18:57.999055Z",
     "start_time": "2018-02-16T14:18:57.696300Z"
    }
   },
   "outputs": [
    {
     "data": {
      "image/png": "[encoded data removed]",
      "text/plain": [
       "<matplotlib.figure.Figure at 0x1182c5240>"
      ]
     },
     "metadata": {},
     "output_type": "display_data"
    }
   ],
   "source": [
    "plt.plot(p_list, train_score, label='train')\n",
    "plt.plot(p_list, np.maximum(test_score,0), label='test')\n",
    "plt.ylabel(\"$r^2$\")\n",
    "plt.xlabel(\"percent of features\")\n",
    "plt.legend();"
   ]
  },
  {
   "cell_type": "markdown",
   "metadata": {},
   "source": [
    "# **Exercise 3: Regularization**\n",
    "\n",
    "Adding new features gives models more capacity to overfit. For the last exercise, we'll explore one more method for responding to overfitting: regularization. Regularization generally refers to anything that reduces the model's performance on the training data but improves performance on the test data. As you saw in our first exercise, when a large number of features are used, feature selection (in other words, reducing the number of features) tends to regularize models. Another common method is adding noise to training data. Here, we will regularize our model directly, by asking it to trade off between fitting to the training data and listening to more features.\n",
    "\n",
    "Here, replace the `LinearRegression()` model with a version that uses regularization, either `Lasso()`, `Ridge()`, or `ElasticNet()`. Each of these models has an `alpha` parameter that you should tweak. Often, the greater the number of features, the higher `alpha` needs to be. \n",
    "\n",
    "Note: If you find yourself getting many `ConvergenceWarning`s then you may either increase the `max_iter` parameter, increase the `tol` parameter, or ignore the warning.\n",
    "\n",
    "How does this step affect when and where the model is overfit or underfit?\n",
    "\n",
    "Go through each step in your pipeline and discuss whether the step pushes the model to be more biased (in other words, to be more underfit) or have more variance (in other words, to be more overfit)."
   ]
  },
  {
   "cell_type": "markdown",
   "metadata": {},
   "source": [
    "# Solution 3:"
   ]
  },
  {
   "cell_type": "code",
   "execution_count": 577,
   "metadata": {
    "ExecuteTime": {
     "end_time": "2018-02-16T14:26:45.232956Z",
     "start_time": "2018-02-16T14:26:45.222076Z"
    },
    "collapsed": true
   },
   "outputs": [],
   "source": [
    "from sklearn import neighbors, ensemble, svm\n",
    "\n",
    "reg = linear_model.Lasso(alpha=40)\n",
    "\n",
    "third_pipe = pipeline.Pipeline([\n",
    "    \n",
    "\n",
    "    (\"poly\", preprocessing.PolynomialFeatures(degree=2, include_bias=False)),\n",
    "    (\"var\", feature_selection.VarianceThreshold()),\n",
    "    (\"scale\", preprocessing.StandardScaler() ),\n",
    "    (\"selection\", feature_selection.SelectPercentile(feature_selection.f_regression, percentile=10)),\n",
    "    (\"regression\", linear_model.Lasso(alpha=40)),\n",
    "])\n"
   ]
  },
  {
   "cell_type": "code",
   "execution_count": 578,
   "metadata": {
    "ExecuteTime": {
     "end_time": "2018-02-16T14:26:47.668389Z",
     "start_time": "2018-02-16T14:26:46.592741Z"
    }
   },
   "outputs": [
    {
     "name": "stderr",
     "output_type": "stream",
     "text": [
      "/usr/local/lib/python3.6/site-packages/sklearn/linear_model/coordinate_descent.py:491: ConvergenceWarning: Objective did not converge. You might want to increase the number of iterations. Fitting data with very small alpha may cause precision problems.\n",
      "  ConvergenceWarning)\n",
      "/usr/local/lib/python3.6/site-packages/sklearn/linear_model/coordinate_descent.py:491: ConvergenceWarning: Objective did not converge. You might want to increase the number of iterations. Fitting data with very small alpha may cause precision problems.\n",
      "  ConvergenceWarning)\n",
      "/usr/local/lib/python3.6/site-packages/sklearn/linear_model/coordinate_descent.py:491: ConvergenceWarning: Objective did not converge. You might want to increase the number of iterations. Fitting data with very small alpha may cause precision problems.\n",
      "  ConvergenceWarning)\n",
      "/usr/local/lib/python3.6/site-packages/sklearn/linear_model/coordinate_descent.py:491: ConvergenceWarning: Objective did not converge. You might want to increase the number of iterations. Fitting data with very small alpha may cause precision problems.\n",
      "  ConvergenceWarning)\n"
     ]
    },
    {
     "name": "stdout",
     "output_type": "stream",
     "text": [
      "train score: 0.8901098493444835\n",
      "test score: 0.8603372846420132\n"
     ]
    },
    {
     "name": "stderr",
     "output_type": "stream",
     "text": [
      "/usr/local/lib/python3.6/site-packages/sklearn/linear_model/coordinate_descent.py:491: ConvergenceWarning: Objective did not converge. You might want to increase the number of iterations. Fitting data with very small alpha may cause precision problems.\n",
      "  ConvergenceWarning)\n"
     ]
    }
   ],
   "source": [
    "score = model_selection.cross_validate(third_pipe, x_train,y_train, scoring=\"r2\", cv=5, return_train_score=True)\n",
    "train_score = score['train_score'].mean()\n",
    "test_score = score['test_score'].mean()\n",
    "\n",
    "print(f\"train score: {train_score}\")\n",
    "print(f\"test score: {test_score}\")"
   ]
  },
  {
   "cell_type": "code",
   "execution_count": 1,
   "metadata": {},
   "outputs": [
    {
     "data": {
      "text/plain": [
       "0.893332949478191"
      ]
     },
     "execution_count": 1,
     "metadata": {},
     "output_type": "execute_result"
    }
   ],
   "source": [
    "p_list = np.linspace(1, 50, 20, dtype='int')\n",
    "train_score = []\n",
    "test_score = []\n",
    "\n",
    "for i, p in enumerate(p_list):\n",
    "\n",
    "    third_pipe.set_params(selection__percentile=p)\n",
    "\n",
    "    score = model_selection.cross_validate(\n",
    "        third_pipe,\n",
    "        x_train,\n",
    "        y_train,\n",
    "        scoring=\"r2\",\n",
    "        cv=5,\n",
    "        return_train_score=True)\n",
    "\n",
    "    train_score.append(score['train_score'].mean())\n",
    "    test_score.append(score['test_score'].mean())\n",
    "print(max(test_score))"
   ]
  },
  {
   "cell_type": "code",
   "execution_count": 580,
   "metadata": {
    "ExecuteTime": {
     "end_time": "2018-02-16T14:27:19.578258Z",
     "start_time": "2018-02-16T14:27:19.274842Z"
    }
   },
   "outputs": [
    {
     "data": {
      "image/png": "[encoded data removed]",
      "text/plain": [
       "<matplotlib.figure.Figure at 0x1184accf8>"
      ]
     },
     "metadata": {},
     "output_type": "display_data"
    }
   ],
   "source": [
    "plt.plot(p_list, train_score, label='train')\n",
    "plt.plot(p_list, test_score, label='test')\n",
    "plt.ylabel(\"$r^2$\")\n",
    "plt.xlabel(\"percent of features\")\n",
    "plt.legend();"
   ]
  },
  {
   "cell_type": "code",
   "execution_count": null,
   "metadata": {
    "collapsed": true
   },
   "outputs": [],
   "source": []
  }
 ],
 "metadata": {
  "kernelspec": {
   "display_name": "Python 3",
   "language": "python",
   "name": "python3"
  },
  "language_info": {
   "codemirror_mode": {
    "name": "ipython",
    "version": 3
   },
   "file_extension": ".py",
   "mimetype": "text/x-python",
   "name": "python",
   "nbconvert_exporter": "python",
   "pygments_lexer": "ipython3",
   "version": "3.6.1"
  },
  "toc": {
   "nav_menu": {},
   "number_sections": true,
   "sideBar": true,
   "skip_h1_title": false,
   "toc_cell": false,
   "toc_position": {},
   "toc_section_display": "block",
   "toc_window_display": false
  },
  "varInspector": {
   "cols": {
    "lenName": 16,
    "lenType": 16,
    "lenVar": 40
   },
   "kernels_config": {
    "python": {
     "delete_cmd_postfix": "",
     "delete_cmd_prefix": "del ",
     "library": "var_list.py",
     "varRefreshCmd": "print(var_dic_list())"
    },
    "r": {
     "delete_cmd_postfix": ") ",
     "delete_cmd_prefix": "rm(",
     "library": "var_list.r",
     "varRefreshCmd": "cat(var_dic_list()) "
    }
   },
   "types_to_exclude": [
    "module",
    "function",
    "builtin_function_or_method",
    "instance",
    "_Feature"
   ],
   "window_display": false
  }
 },
 "nbformat": 4,
 "nbformat_minor": 2
}
